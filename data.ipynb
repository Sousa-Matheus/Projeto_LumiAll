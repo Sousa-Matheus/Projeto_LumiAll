{
 "cells": [
  {
   "cell_type": "code",
   "execution_count": 7,
   "id": "1cef8bdb",
   "metadata": {},
   "outputs": [],
   "source": [
    "import pandas as pd\n",
    "import numpy as np\n",
    "import random\n",
    "from datetime import datetime, timedelta\n"
   ]
  },
  {
   "cell_type": "code",
   "execution_count": 8,
   "id": "9ff4a890",
   "metadata": {},
   "outputs": [],
   "source": [
    "\n",
    "# Lista de colaboradores\n",
    "colaboradores = [\"João Silva\", \"Maria Oliveira\", \"Carlos Souza\"]\n",
    "\n",
    "# Tipos de atividade possíveis\n",
    "tipos = [\"Tarefa\", \"Reunião\", \"Projeto\"]\n",
    "\n",
    "# Possíveis atividades\n",
    "atividades_possiveis = [\n",
    "    \"Organizar arquivos\", \"Atender clientes\", \"Desenvolver software\",\n",
    "    \"Gerenciar equipe\", \"Analisar dados\", \"Fazer relatório\",\n",
    "    \"Planejar sprint\", \"Apresentar resultados\", \"Treinamento interno\",\n",
    "    \"Revisar código\", \"Manutenção de sistema\", \"Suporte técnico\"\n",
    "]\n",
    "\n",
    "# Função para gerar uma lista de atividades por colaborador\n",
    "def gerar_atividades(colaborador):\n",
    "    num_atividades = random.randint(5, 10)\n",
    "    dados = []\n",
    "    \n",
    "    for _ in range(num_atividades):\n",
    "        atividade = random.choice(atividades_possiveis)\n",
    "        tipo = random.choice(tipos)\n",
    "        concluido = random.choice([\"sim\", \"não\"])\n",
    "        \n",
    "        # Gerar data de início e fim com horas aleatórias\n",
    "        inicio = datetime(2025, 8, 23) + timedelta(days=random.randint(0, 10), hours=random.randint(8, 18))\n",
    "        fim = inicio + timedelta(hours=random.randint(1, 6), days=random.randint(0, 3))\n",
    "\n",
    "        # Calcular duração em horas\n",
    "        duracao = (fim - inicio).total_seconds() / 3600  \n",
    "        \n",
    "        dados.append([colaborador, atividade, concluido, inicio, fim, tipo, duracao])\n",
    "    return dados\n",
    "\n",
    "# Gerar dataframe final\n",
    "dados_finais = []\n",
    "for col in colaboradores:\n",
    "    dados_finais.extend(gerar_atividades(col))\n",
    "\n",
    "data = pd.DataFrame(dados_finais, columns=[\"Colaborador\", \"Atividade\", \"Concluido\", \"Inicio\", \"Fim\", \"Tipo\", \"Duracao_horas\"])\n"
   ]
  },
  {
   "cell_type": "code",
   "execution_count": 9,
   "id": "34872026",
   "metadata": {},
   "outputs": [
    {
     "data": {
      "text/html": [
       "<div>\n",
       "<style scoped>\n",
       "    .dataframe tbody tr th:only-of-type {\n",
       "        vertical-align: middle;\n",
       "    }\n",
       "\n",
       "    .dataframe tbody tr th {\n",
       "        vertical-align: top;\n",
       "    }\n",
       "\n",
       "    .dataframe thead th {\n",
       "        text-align: right;\n",
       "    }\n",
       "</style>\n",
       "<table border=\"1\" class=\"dataframe\">\n",
       "  <thead>\n",
       "    <tr style=\"text-align: right;\">\n",
       "      <th></th>\n",
       "      <th>Colaborador</th>\n",
       "      <th>Atividade</th>\n",
       "      <th>Concluido</th>\n",
       "      <th>Inicio</th>\n",
       "      <th>Fim</th>\n",
       "      <th>Tipo</th>\n",
       "      <th>Duracao_horas</th>\n",
       "    </tr>\n",
       "  </thead>\n",
       "  <tbody>\n",
       "    <tr>\n",
       "      <th>0</th>\n",
       "      <td>João Silva</td>\n",
       "      <td>Fazer relatório</td>\n",
       "      <td>não</td>\n",
       "      <td>2025-09-02 16:00:00</td>\n",
       "      <td>2025-09-04 18:00:00</td>\n",
       "      <td>Projeto</td>\n",
       "      <td>50.0</td>\n",
       "    </tr>\n",
       "    <tr>\n",
       "      <th>1</th>\n",
       "      <td>João Silva</td>\n",
       "      <td>Gerenciar equipe</td>\n",
       "      <td>não</td>\n",
       "      <td>2025-08-27 12:00:00</td>\n",
       "      <td>2025-08-29 13:00:00</td>\n",
       "      <td>Tarefa</td>\n",
       "      <td>49.0</td>\n",
       "    </tr>\n",
       "    <tr>\n",
       "      <th>2</th>\n",
       "      <td>João Silva</td>\n",
       "      <td>Manutenção de sistema</td>\n",
       "      <td>não</td>\n",
       "      <td>2025-08-29 09:00:00</td>\n",
       "      <td>2025-08-30 15:00:00</td>\n",
       "      <td>Reunião</td>\n",
       "      <td>30.0</td>\n",
       "    </tr>\n",
       "    <tr>\n",
       "      <th>3</th>\n",
       "      <td>João Silva</td>\n",
       "      <td>Apresentar resultados</td>\n",
       "      <td>sim</td>\n",
       "      <td>2025-08-30 08:00:00</td>\n",
       "      <td>2025-08-30 14:00:00</td>\n",
       "      <td>Tarefa</td>\n",
       "      <td>6.0</td>\n",
       "    </tr>\n",
       "    <tr>\n",
       "      <th>4</th>\n",
       "      <td>João Silva</td>\n",
       "      <td>Gerenciar equipe</td>\n",
       "      <td>sim</td>\n",
       "      <td>2025-08-24 13:00:00</td>\n",
       "      <td>2025-08-24 16:00:00</td>\n",
       "      <td>Tarefa</td>\n",
       "      <td>3.0</td>\n",
       "    </tr>\n",
       "    <tr>\n",
       "      <th>5</th>\n",
       "      <td>João Silva</td>\n",
       "      <td>Fazer relatório</td>\n",
       "      <td>não</td>\n",
       "      <td>2025-08-25 13:00:00</td>\n",
       "      <td>2025-08-25 14:00:00</td>\n",
       "      <td>Reunião</td>\n",
       "      <td>1.0</td>\n",
       "    </tr>\n",
       "    <tr>\n",
       "      <th>6</th>\n",
       "      <td>João Silva</td>\n",
       "      <td>Desenvolver software</td>\n",
       "      <td>sim</td>\n",
       "      <td>2025-08-31 17:00:00</td>\n",
       "      <td>2025-08-31 19:00:00</td>\n",
       "      <td>Tarefa</td>\n",
       "      <td>2.0</td>\n",
       "    </tr>\n",
       "    <tr>\n",
       "      <th>7</th>\n",
       "      <td>João Silva</td>\n",
       "      <td>Atender clientes</td>\n",
       "      <td>sim</td>\n",
       "      <td>2025-09-01 12:00:00</td>\n",
       "      <td>2025-09-04 14:00:00</td>\n",
       "      <td>Projeto</td>\n",
       "      <td>74.0</td>\n",
       "    </tr>\n",
       "    <tr>\n",
       "      <th>8</th>\n",
       "      <td>Maria Oliveira</td>\n",
       "      <td>Atender clientes</td>\n",
       "      <td>não</td>\n",
       "      <td>2025-08-25 10:00:00</td>\n",
       "      <td>2025-08-27 14:00:00</td>\n",
       "      <td>Tarefa</td>\n",
       "      <td>52.0</td>\n",
       "    </tr>\n",
       "    <tr>\n",
       "      <th>9</th>\n",
       "      <td>Maria Oliveira</td>\n",
       "      <td>Analisar dados</td>\n",
       "      <td>sim</td>\n",
       "      <td>2025-08-25 15:00:00</td>\n",
       "      <td>2025-08-26 19:00:00</td>\n",
       "      <td>Reunião</td>\n",
       "      <td>28.0</td>\n",
       "    </tr>\n",
       "  </tbody>\n",
       "</table>\n",
       "</div>"
      ],
      "text/plain": [
       "      Colaborador              Atividade Concluido              Inicio  \\\n",
       "0      João Silva        Fazer relatório       não 2025-09-02 16:00:00   \n",
       "1      João Silva       Gerenciar equipe       não 2025-08-27 12:00:00   \n",
       "2      João Silva  Manutenção de sistema       não 2025-08-29 09:00:00   \n",
       "3      João Silva  Apresentar resultados       sim 2025-08-30 08:00:00   \n",
       "4      João Silva       Gerenciar equipe       sim 2025-08-24 13:00:00   \n",
       "5      João Silva        Fazer relatório       não 2025-08-25 13:00:00   \n",
       "6      João Silva   Desenvolver software       sim 2025-08-31 17:00:00   \n",
       "7      João Silva       Atender clientes       sim 2025-09-01 12:00:00   \n",
       "8  Maria Oliveira       Atender clientes       não 2025-08-25 10:00:00   \n",
       "9  Maria Oliveira         Analisar dados       sim 2025-08-25 15:00:00   \n",
       "\n",
       "                  Fim     Tipo  Duracao_horas  \n",
       "0 2025-09-04 18:00:00  Projeto           50.0  \n",
       "1 2025-08-29 13:00:00   Tarefa           49.0  \n",
       "2 2025-08-30 15:00:00  Reunião           30.0  \n",
       "3 2025-08-30 14:00:00   Tarefa            6.0  \n",
       "4 2025-08-24 16:00:00   Tarefa            3.0  \n",
       "5 2025-08-25 14:00:00  Reunião            1.0  \n",
       "6 2025-08-31 19:00:00   Tarefa            2.0  \n",
       "7 2025-09-04 14:00:00  Projeto           74.0  \n",
       "8 2025-08-27 14:00:00   Tarefa           52.0  \n",
       "9 2025-08-26 19:00:00  Reunião           28.0  "
      ]
     },
     "execution_count": 9,
     "metadata": {},
     "output_type": "execute_result"
    }
   ],
   "source": [
    "data.head(10)"
   ]
  },
  {
   "cell_type": "code",
   "execution_count": 12,
   "id": "0644ccf5",
   "metadata": {},
   "outputs": [],
   "source": [
    "colaboradores = data['Colaborador'].unique().tolist()"
   ]
  },
  {
   "cell_type": "code",
   "execution_count": 23,
   "id": "ef70c891",
   "metadata": {},
   "outputs": [],
   "source": [
    "media_duracao = data.loc[(data['Colaborador'] == 'João Silva') & (data['Concluido'] == 'sim'), 'Duracao_horas'].mean()"
   ]
  },
  {
   "cell_type": "code",
   "execution_count": 15,
   "id": "8d70b180",
   "metadata": {},
   "outputs": [],
   "source": [
    "atividades = data.loc[data['Colaborador'] == 'João Silva', 'Atividade'].count()"
   ]
  },
  {
   "cell_type": "code",
   "execution_count": 17,
   "id": "740ffe2b",
   "metadata": {},
   "outputs": [],
   "source": [
    "reuniao = data.loc[(data['Colaborador'] == 'João Silva') & (data['Tipo'] == 'Reunião'), 'Atividade'].count()"
   ]
  },
  {
   "cell_type": "code",
   "execution_count": 24,
   "id": "3edb9be7",
   "metadata": {},
   "outputs": [
    {
     "data": {
      "text/plain": [
       "np.float64(21.25)"
      ]
     },
     "execution_count": 24,
     "metadata": {},
     "output_type": "execute_result"
    }
   ],
   "source": [
    "media_duracao"
   ]
  },
  {
   "cell_type": "code",
   "execution_count": 10,
   "id": "35510e74",
   "metadata": {},
   "outputs": [
    {
     "data": {
      "text/plain": [
       "(25, 7)"
      ]
     },
     "execution_count": 10,
     "metadata": {},
     "output_type": "execute_result"
    }
   ],
   "source": [
    "data.shape"
   ]
  },
  {
   "cell_type": "code",
   "execution_count": 11,
   "id": "4adf9117",
   "metadata": {},
   "outputs": [],
   "source": [
    "data.to_csv(\"data.csv\", index=False)"
   ]
  }
 ],
 "metadata": {
  "kernelspec": {
   "display_name": "Python 3",
   "language": "python",
   "name": "python3"
  },
  "language_info": {
   "codemirror_mode": {
    "name": "ipython",
    "version": 3
   },
   "file_extension": ".py",
   "mimetype": "text/x-python",
   "name": "python",
   "nbconvert_exporter": "python",
   "pygments_lexer": "ipython3",
   "version": "3.11.9"
  }
 },
 "nbformat": 4,
 "nbformat_minor": 5
}
